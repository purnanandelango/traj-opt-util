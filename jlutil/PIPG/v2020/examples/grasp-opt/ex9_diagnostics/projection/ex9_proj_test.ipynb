{
 "cells": [
  {
   "cell_type": "markdown",
   "metadata": {},
   "source": [
    "```\n",
    "01/31/21\n",
    "Verifying correctness of the functions for projecting onto friction cones, balls and rotational equilibrium subspace, for the the three-finger grasp optimization problem.\n",
    "```"
   ]
  },
  {
   "cell_type": "code",
   "execution_count": 5,
   "metadata": {
    "ExecuteTime": {
     "end_time": "2021-02-01T14:25:15.906000-08:00",
     "start_time": "2021-02-01T22:25:15.791Z"
    }
   },
   "outputs": [
    {
     "name": "stderr",
     "output_type": "stream",
     "text": [
      "WARNING: replacing module proj.\n",
      "WARNING: replacing module la_utils.\n",
      "WARNING: replacing module eXd.\n"
     ]
    }
   ],
   "source": [
    "using LinearAlgebra\n",
    "include(\"ex9_diagnose.jl\");"
   ]
  },
  {
   "cell_type": "code",
   "execution_count": 45,
   "metadata": {
    "ExecuteTime": {
     "end_time": "2021-02-01T14:25:33.201000-08:00",
     "start_time": "2021-02-01T22:25:33.189Z"
    }
   },
   "outputs": [
    {
     "name": "stdout",
     "output_type": "stream",
     "text": [
      "8.402745546473023e-6"
     ]
    }
   ],
   "source": [
    "z = randn(eXd.nu)\n",
    "x1 = randn(eXd.nu)\n",
    "x2 = randn(eXd.nu)\n",
    "eXd.projsolv_JuMP!(x1,z)\n",
    "eXd.project_u!(x2,z)\n",
    "print(norm(x1-x2));"
   ]
  }
 ],
 "metadata": {
  "kernelspec": {
   "display_name": "Julia 1.5.3",
   "language": "julia",
   "name": "julia-1.5"
  },
  "language_info": {
   "file_extension": ".jl",
   "mimetype": "application/julia",
   "name": "julia",
   "version": "1.5.3"
  },
  "latex_envs": {
   "LaTeX_envs_menu_present": true,
   "autoclose": false,
   "autocomplete": false,
   "bibliofile": "biblio.bib",
   "cite_by": "apalike",
   "current_citInitial": 1,
   "eqLabelWithNumbers": true,
   "eqNumInitial": 1,
   "hotkeys": {
    "equation": "Ctrl-E",
    "itemize": "Ctrl-I"
   },
   "labels_anchors": false,
   "latex_user_defs": false,
   "report_style_numbering": false,
   "user_envs_cfg": false
  },
  "toc": {
   "base_numbering": 1,
   "nav_menu": {},
   "number_sections": true,
   "sideBar": true,
   "skip_h1_title": false,
   "title_cell": "Table of Contents",
   "title_sidebar": "Contents",
   "toc_cell": false,
   "toc_position": {},
   "toc_section_display": true,
   "toc_window_display": false
  }
 },
 "nbformat": 4,
 "nbformat_minor": 4
}
